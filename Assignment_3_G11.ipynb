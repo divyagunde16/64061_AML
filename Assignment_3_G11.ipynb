{
  "nbformat": 4,
  "nbformat_minor": 0,
  "metadata": {
    "colab": {
      "provenance": [],
      "machine_shape": "hm",
      "gpuType": "T4",
      "authorship_tag": "ABX9TyP9O33TvXxcBwFCkEpizoF5",
      "include_colab_link": true
    },
    "kernelspec": {
      "name": "python3",
      "display_name": "Python 3"
    },
    "language_info": {
      "name": "python"
    },
    "accelerator": "GPU"
  },
  "cells": [
    {
      "cell_type": "markdown",
      "metadata": {
        "id": "view-in-github",
        "colab_type": "text"
      },
      "source": [
        "<a href=\"https://colab.research.google.com/github/divyagunde16/64061_AML/blob/main/Assignment_3_G11.ipynb\" target=\"_parent\"><img src=\"https://colab.research.google.com/assets/colab-badge.svg\" alt=\"Open In Colab\"/></a>"
      ]
    },
    {
      "cell_type": "markdown",
      "source": [
        "**Deep learning for timeseries**"
      ],
      "metadata": {
        "id": "6TqqtRamatC3"
      }
    },
    {
      "cell_type": "markdown",
      "source": [
        "**Different kinds of timeseries tasks**"
      ],
      "metadata": {
        "id": "PhNm15g-lcdX"
      }
    },
    {
      "cell_type": "markdown",
      "source": [
        "**A temperature-forecasting example**"
      ],
      "metadata": {
        "id": "uMFNSY7Plb9L"
      }
    },
    {
      "cell_type": "code",
      "execution_count": 8,
      "metadata": {
        "colab": {
          "base_uri": "https://localhost:8080/"
        },
        "id": "S-b9rPOragpj",
        "outputId": "ee15dde1-b2fb-41ab-f523-d68955f473d3"
      },
      "outputs": [
        {
          "output_type": "stream",
          "name": "stdout",
          "text": [
            "--2024-04-08 00:19:48--  https://s3.amazonaws.com/keras-datasets/jena_climate_2009_2016.csv.zip\n",
            "Resolving s3.amazonaws.com (s3.amazonaws.com)... 54.231.226.40, 16.182.65.80, 52.216.136.133, ...\n",
            "Connecting to s3.amazonaws.com (s3.amazonaws.com)|54.231.226.40|:443... connected.\n",
            "HTTP request sent, awaiting response... 200 OK\n",
            "Length: 13565642 (13M) [application/zip]\n",
            "Saving to: ‘jena_climate_2009_2016.csv.zip.1’\n",
            "\n",
            "jena_climate_2009_2 100%[===================>]  12.94M  6.53MB/s    in 2.0s    \n",
            "\n",
            "2024-04-08 00:19:51 (6.53 MB/s) - ‘jena_climate_2009_2016.csv.zip.1’ saved [13565642/13565642]\n",
            "\n",
            "Archive:  jena_climate_2009_2016.csv.zip\n",
            "replace jena_climate_2009_2016.csv? [y]es, [n]o, [A]ll, [N]one, [r]ename: "
          ]
        }
      ],
      "source": [
        "!wget https://s3.amazonaws.com/keras-datasets/jena_climate_2009_2016.csv.zip\n",
        "!unzip jena_climate_2009_2016.csv.zip"
      ]
    },
    {
      "cell_type": "markdown",
      "source": [
        "**Inspecting the data of the Jena weather dataset**\n",
        "\n"
      ],
      "metadata": {
        "id": "KhXu3W9bmAhQ"
      }
    },
    {
      "cell_type": "code",
      "source": [
        "import os\n",
        "fname = os.path.join(\"jena_climate_2009_2016.csv\")\n",
        "\n",
        "with open(fname) as f:\n",
        "    data = f.read()\n",
        "\n",
        "lines = data.split(\"\\n\")\n",
        "header = lines[0].split(\",\")\n",
        "lines = lines[1:]\n",
        "print(header)\n",
        "print(len(lines))"
      ],
      "metadata": {
        "colab": {
          "base_uri": "https://localhost:8080/"
        },
        "id": "phxEv75pbAJg",
        "outputId": "26986867-5816-4e16-95bc-c7e694a06187"
      },
      "execution_count": 9,
      "outputs": [
        {
          "output_type": "stream",
          "name": "stdout",
          "text": [
            "['\"Date Time\"', '\"p (mbar)\"', '\"T (degC)\"', '\"Tpot (K)\"', '\"Tdew (degC)\"', '\"rh (%)\"', '\"VPmax (mbar)\"', '\"VPact (mbar)\"', '\"VPdef (mbar)\"', '\"sh (g/kg)\"', '\"H2OC (mmol/mol)\"', '\"rho (g/m**3)\"', '\"wv (m/s)\"', '\"max. wv (m/s)\"', '\"wd (deg)\"']\n",
            "420451\n"
          ]
        }
      ]
    },
    {
      "cell_type": "markdown",
      "source": [
        "**Parsing the data**\n",
        "\n"
      ],
      "metadata": {
        "id": "qhk6RUFZmYsp"
      }
    },
    {
      "cell_type": "code",
      "source": [
        "import numpy as np\n",
        "temperature = np.zeros((len(lines),))\n",
        "raw_data = np.zeros((len(lines), len(header) - 1))\n",
        "for i, line in enumerate(lines):\n",
        "    values = [float(x) for x in line.split(\",\")[1:]]\n",
        "    temperature[i] = values[1]\n",
        "    raw_data[i, :] = values[:]"
      ],
      "metadata": {
        "id": "hupsUXSYbFK5"
      },
      "execution_count": 10,
      "outputs": []
    },
    {
      "cell_type": "code",
      "source": [
        "temperature[:5]"
      ],
      "metadata": {
        "id": "6DQhtoLLyzUq",
        "colab": {
          "base_uri": "https://localhost:8080/"
        },
        "outputId": "33828076-0948-4b3d-bd70-357c791c8007"
      },
      "execution_count": 11,
      "outputs": [
        {
          "output_type": "execute_result",
          "data": {
            "text/plain": [
              "array([-8.02, -8.41, -8.51, -8.31, -8.27])"
            ]
          },
          "metadata": {},
          "execution_count": 11
        }
      ]
    },
    {
      "cell_type": "code",
      "source": [
        "import pandas as pd\n",
        "view = pd.DataFrame(temperature)\n",
        "view.describe()"
      ],
      "metadata": {
        "id": "1XwW6o77y4UE",
        "colab": {
          "base_uri": "https://localhost:8080/",
          "height": 297
        },
        "outputId": "a8bbb0d9-5623-4927-c649-4b9df84f7f79"
      },
      "execution_count": 12,
      "outputs": [
        {
          "output_type": "execute_result",
          "data": {
            "text/plain": [
              "                   0\n",
              "count  420451.000000\n",
              "mean        9.448567\n",
              "std         8.423685\n",
              "min       -23.010000\n",
              "25%         3.360000\n",
              "50%         9.410000\n",
              "75%        15.470000\n",
              "max        37.280000"
            ],
            "text/html": [
              "\n",
              "  <div id=\"df-f1fe1ae2-4d2e-4724-b433-a175cabe9730\" class=\"colab-df-container\">\n",
              "    <div>\n",
              "<style scoped>\n",
              "    .dataframe tbody tr th:only-of-type {\n",
              "        vertical-align: middle;\n",
              "    }\n",
              "\n",
              "    .dataframe tbody tr th {\n",
              "        vertical-align: top;\n",
              "    }\n",
              "\n",
              "    .dataframe thead th {\n",
              "        text-align: right;\n",
              "    }\n",
              "</style>\n",
              "<table border=\"1\" class=\"dataframe\">\n",
              "  <thead>\n",
              "    <tr style=\"text-align: right;\">\n",
              "      <th></th>\n",
              "      <th>0</th>\n",
              "    </tr>\n",
              "  </thead>\n",
              "  <tbody>\n",
              "    <tr>\n",
              "      <th>count</th>\n",
              "      <td>420451.000000</td>\n",
              "    </tr>\n",
              "    <tr>\n",
              "      <th>mean</th>\n",
              "      <td>9.448567</td>\n",
              "    </tr>\n",
              "    <tr>\n",
              "      <th>std</th>\n",
              "      <td>8.423685</td>\n",
              "    </tr>\n",
              "    <tr>\n",
              "      <th>min</th>\n",
              "      <td>-23.010000</td>\n",
              "    </tr>\n",
              "    <tr>\n",
              "      <th>25%</th>\n",
              "      <td>3.360000</td>\n",
              "    </tr>\n",
              "    <tr>\n",
              "      <th>50%</th>\n",
              "      <td>9.410000</td>\n",
              "    </tr>\n",
              "    <tr>\n",
              "      <th>75%</th>\n",
              "      <td>15.470000</td>\n",
              "    </tr>\n",
              "    <tr>\n",
              "      <th>max</th>\n",
              "      <td>37.280000</td>\n",
              "    </tr>\n",
              "  </tbody>\n",
              "</table>\n",
              "</div>\n",
              "    <div class=\"colab-df-buttons\">\n",
              "\n",
              "  <div class=\"colab-df-container\">\n",
              "    <button class=\"colab-df-convert\" onclick=\"convertToInteractive('df-f1fe1ae2-4d2e-4724-b433-a175cabe9730')\"\n",
              "            title=\"Convert this dataframe to an interactive table.\"\n",
              "            style=\"display:none;\">\n",
              "\n",
              "  <svg xmlns=\"http://www.w3.org/2000/svg\" height=\"24px\" viewBox=\"0 -960 960 960\">\n",
              "    <path d=\"M120-120v-720h720v720H120Zm60-500h600v-160H180v160Zm220 220h160v-160H400v160Zm0 220h160v-160H400v160ZM180-400h160v-160H180v160Zm440 0h160v-160H620v160ZM180-180h160v-160H180v160Zm440 0h160v-160H620v160Z\"/>\n",
              "  </svg>\n",
              "    </button>\n",
              "\n",
              "  <style>\n",
              "    .colab-df-container {\n",
              "      display:flex;\n",
              "      gap: 12px;\n",
              "    }\n",
              "\n",
              "    .colab-df-convert {\n",
              "      background-color: #E8F0FE;\n",
              "      border: none;\n",
              "      border-radius: 50%;\n",
              "      cursor: pointer;\n",
              "      display: none;\n",
              "      fill: #1967D2;\n",
              "      height: 32px;\n",
              "      padding: 0 0 0 0;\n",
              "      width: 32px;\n",
              "    }\n",
              "\n",
              "    .colab-df-convert:hover {\n",
              "      background-color: #E2EBFA;\n",
              "      box-shadow: 0px 1px 2px rgba(60, 64, 67, 0.3), 0px 1px 3px 1px rgba(60, 64, 67, 0.15);\n",
              "      fill: #174EA6;\n",
              "    }\n",
              "\n",
              "    .colab-df-buttons div {\n",
              "      margin-bottom: 4px;\n",
              "    }\n",
              "\n",
              "    [theme=dark] .colab-df-convert {\n",
              "      background-color: #3B4455;\n",
              "      fill: #D2E3FC;\n",
              "    }\n",
              "\n",
              "    [theme=dark] .colab-df-convert:hover {\n",
              "      background-color: #434B5C;\n",
              "      box-shadow: 0px 1px 3px 1px rgba(0, 0, 0, 0.15);\n",
              "      filter: drop-shadow(0px 1px 2px rgba(0, 0, 0, 0.3));\n",
              "      fill: #FFFFFF;\n",
              "    }\n",
              "  </style>\n",
              "\n",
              "    <script>\n",
              "      const buttonEl =\n",
              "        document.querySelector('#df-f1fe1ae2-4d2e-4724-b433-a175cabe9730 button.colab-df-convert');\n",
              "      buttonEl.style.display =\n",
              "        google.colab.kernel.accessAllowed ? 'block' : 'none';\n",
              "\n",
              "      async function convertToInteractive(key) {\n",
              "        const element = document.querySelector('#df-f1fe1ae2-4d2e-4724-b433-a175cabe9730');\n",
              "        const dataTable =\n",
              "          await google.colab.kernel.invokeFunction('convertToInteractive',\n",
              "                                                    [key], {});\n",
              "        if (!dataTable) return;\n",
              "\n",
              "        const docLinkHtml = 'Like what you see? Visit the ' +\n",
              "          '<a target=\"_blank\" href=https://colab.research.google.com/notebooks/data_table.ipynb>data table notebook</a>'\n",
              "          + ' to learn more about interactive tables.';\n",
              "        element.innerHTML = '';\n",
              "        dataTable['output_type'] = 'display_data';\n",
              "        await google.colab.output.renderOutput(dataTable, element);\n",
              "        const docLink = document.createElement('div');\n",
              "        docLink.innerHTML = docLinkHtml;\n",
              "        element.appendChild(docLink);\n",
              "      }\n",
              "    </script>\n",
              "  </div>\n",
              "\n",
              "\n",
              "<div id=\"df-3a9ebacd-aa11-4d16-87f0-d77627a18233\">\n",
              "  <button class=\"colab-df-quickchart\" onclick=\"quickchart('df-3a9ebacd-aa11-4d16-87f0-d77627a18233')\"\n",
              "            title=\"Suggest charts\"\n",
              "            style=\"display:none;\">\n",
              "\n",
              "<svg xmlns=\"http://www.w3.org/2000/svg\" height=\"24px\"viewBox=\"0 0 24 24\"\n",
              "     width=\"24px\">\n",
              "    <g>\n",
              "        <path d=\"M19 3H5c-1.1 0-2 .9-2 2v14c0 1.1.9 2 2 2h14c1.1 0 2-.9 2-2V5c0-1.1-.9-2-2-2zM9 17H7v-7h2v7zm4 0h-2V7h2v10zm4 0h-2v-4h2v4z\"/>\n",
              "    </g>\n",
              "</svg>\n",
              "  </button>\n",
              "\n",
              "<style>\n",
              "  .colab-df-quickchart {\n",
              "      --bg-color: #E8F0FE;\n",
              "      --fill-color: #1967D2;\n",
              "      --hover-bg-color: #E2EBFA;\n",
              "      --hover-fill-color: #174EA6;\n",
              "      --disabled-fill-color: #AAA;\n",
              "      --disabled-bg-color: #DDD;\n",
              "  }\n",
              "\n",
              "  [theme=dark] .colab-df-quickchart {\n",
              "      --bg-color: #3B4455;\n",
              "      --fill-color: #D2E3FC;\n",
              "      --hover-bg-color: #434B5C;\n",
              "      --hover-fill-color: #FFFFFF;\n",
              "      --disabled-bg-color: #3B4455;\n",
              "      --disabled-fill-color: #666;\n",
              "  }\n",
              "\n",
              "  .colab-df-quickchart {\n",
              "    background-color: var(--bg-color);\n",
              "    border: none;\n",
              "    border-radius: 50%;\n",
              "    cursor: pointer;\n",
              "    display: none;\n",
              "    fill: var(--fill-color);\n",
              "    height: 32px;\n",
              "    padding: 0;\n",
              "    width: 32px;\n",
              "  }\n",
              "\n",
              "  .colab-df-quickchart:hover {\n",
              "    background-color: var(--hover-bg-color);\n",
              "    box-shadow: 0 1px 2px rgba(60, 64, 67, 0.3), 0 1px 3px 1px rgba(60, 64, 67, 0.15);\n",
              "    fill: var(--button-hover-fill-color);\n",
              "  }\n",
              "\n",
              "  .colab-df-quickchart-complete:disabled,\n",
              "  .colab-df-quickchart-complete:disabled:hover {\n",
              "    background-color: var(--disabled-bg-color);\n",
              "    fill: var(--disabled-fill-color);\n",
              "    box-shadow: none;\n",
              "  }\n",
              "\n",
              "  .colab-df-spinner {\n",
              "    border: 2px solid var(--fill-color);\n",
              "    border-color: transparent;\n",
              "    border-bottom-color: var(--fill-color);\n",
              "    animation:\n",
              "      spin 1s steps(1) infinite;\n",
              "  }\n",
              "\n",
              "  @keyframes spin {\n",
              "    0% {\n",
              "      border-color: transparent;\n",
              "      border-bottom-color: var(--fill-color);\n",
              "      border-left-color: var(--fill-color);\n",
              "    }\n",
              "    20% {\n",
              "      border-color: transparent;\n",
              "      border-left-color: var(--fill-color);\n",
              "      border-top-color: var(--fill-color);\n",
              "    }\n",
              "    30% {\n",
              "      border-color: transparent;\n",
              "      border-left-color: var(--fill-color);\n",
              "      border-top-color: var(--fill-color);\n",
              "      border-right-color: var(--fill-color);\n",
              "    }\n",
              "    40% {\n",
              "      border-color: transparent;\n",
              "      border-right-color: var(--fill-color);\n",
              "      border-top-color: var(--fill-color);\n",
              "    }\n",
              "    60% {\n",
              "      border-color: transparent;\n",
              "      border-right-color: var(--fill-color);\n",
              "    }\n",
              "    80% {\n",
              "      border-color: transparent;\n",
              "      border-right-color: var(--fill-color);\n",
              "      border-bottom-color: var(--fill-color);\n",
              "    }\n",
              "    90% {\n",
              "      border-color: transparent;\n",
              "      border-bottom-color: var(--fill-color);\n",
              "    }\n",
              "  }\n",
              "</style>\n",
              "\n",
              "  <script>\n",
              "    async function quickchart(key) {\n",
              "      const quickchartButtonEl =\n",
              "        document.querySelector('#' + key + ' button');\n",
              "      quickchartButtonEl.disabled = true;  // To prevent multiple clicks.\n",
              "      quickchartButtonEl.classList.add('colab-df-spinner');\n",
              "      try {\n",
              "        const charts = await google.colab.kernel.invokeFunction(\n",
              "            'suggestCharts', [key], {});\n",
              "      } catch (error) {\n",
              "        console.error('Error during call to suggestCharts:', error);\n",
              "      }\n",
              "      quickchartButtonEl.classList.remove('colab-df-spinner');\n",
              "      quickchartButtonEl.classList.add('colab-df-quickchart-complete');\n",
              "    }\n",
              "    (() => {\n",
              "      let quickchartButtonEl =\n",
              "        document.querySelector('#df-3a9ebacd-aa11-4d16-87f0-d77627a18233 button');\n",
              "      quickchartButtonEl.style.display =\n",
              "        google.colab.kernel.accessAllowed ? 'block' : 'none';\n",
              "    })();\n",
              "  </script>\n",
              "</div>\n",
              "\n",
              "    </div>\n",
              "  </div>\n"
            ],
            "application/vnd.google.colaboratory.intrinsic+json": {
              "type": "dataframe",
              "summary": "{\n  \"name\": \"view\",\n  \"rows\": 8,\n  \"fields\": [\n    {\n      \"column\": 0,\n      \"properties\": {\n        \"dtype\": \"number\",\n        \"std\": 148648.82777598477,\n        \"min\": -23.01,\n        \"max\": 420451.0,\n        \"num_unique_values\": 8,\n        \"samples\": [\n          9.44856687223957,\n          9.41,\n          420451.0\n        ],\n        \"semantic_type\": \"\",\n        \"description\": \"\"\n      }\n    }\n  ]\n}"
            }
          },
          "metadata": {},
          "execution_count": 12
        }
      ]
    },
    {
      "cell_type": "markdown",
      "source": [
        "**Plotting the temperature timeseries**"
      ],
      "metadata": {
        "id": "P0c_2V5jmf54"
      }
    },
    {
      "cell_type": "code",
      "source": [
        "from matplotlib import pyplot as plt\n",
        "plt.plot(range(len(temperature)), temperature)"
      ],
      "metadata": {
        "colab": {
          "base_uri": "https://localhost:8080/",
          "height": 451
        },
        "id": "JcJ-XfbMbKwB",
        "outputId": "3b6033ea-fb0e-4d94-9429-cfb62ce19bbe"
      },
      "execution_count": 13,
      "outputs": [
        {
          "output_type": "execute_result",
          "data": {
            "text/plain": [
              "[<matplotlib.lines.Line2D at 0x7d94a5563760>]"
            ]
          },
          "metadata": {},
          "execution_count": 13
        },
        {
          "output_type": "display_data",
          "data": {
            "text/plain": [
              "<Figure size 640x480 with 1 Axes>"
            ],
            "image/png": "[encoded data removed]"
          },
          "metadata": {}
        }
      ]
    },
    {
      "cell_type": "markdown",
      "source": [
        "**Plotting the first 10 days of the temperature timeseries**"
      ],
      "metadata": {
        "id": "qaNjJxRSasLT"
      }
    },
    {
      "cell_type": "code",
      "source": [
        "plt.plot(range(1440), temperature[:1440])\n",
        "\n",
        "plt.xlabel(\"Time step\")\n",
        "plt.ylabel(\"Temperature in (C)\")\n",
        "plt.title(\"Temperature over rhe first 1000 time steps\")\n",
        "plt.show()"
      ],
      "metadata": {
        "colab": {
          "base_uri": "https://localhost:8080/",
          "height": 472
        },
        "id": "F-CfX3mVbO71",
        "outputId": "83c29acb-4a35-4d7b-b0a7-c83f5016e58d"
      },
      "execution_count": 14,
      "outputs": [
        {
          "output_type": "display_data",
          "data": {
            "text/plain": [
              "<Figure size 640x480 with 1 Axes>"
            ],
            "image/png": "[encoded data removed]"
          },
          "metadata": {}
        }
      ]
    },
    {
      "cell_type": "markdown",
      "source": [
        "**Computing the number of samples we'll use for each data split**\n",
        "\n"
      ],
      "metadata": {
        "id": "fRMoQajQnVP4"
      }
    },
    {
      "cell_type": "code",
      "source": [
        "num_train_samples = int(0.5 * len(raw_data))\n",
        "num_val_samples = int(0.25 * len(raw_data))\n",
        "num_test_samples = len(raw_data) - num_train_samples - num_val_samples\n",
        "print(\"num_train_samples:\", num_train_samples)\n",
        "print(\"num_val_samples:\", num_val_samples)\n",
        "print(\"num_test_samples:\", num_test_samples)"
      ],
      "metadata": {
        "colab": {
          "base_uri": "https://localhost:8080/"
        },
        "id": "t7kdrBvTbThe",
        "outputId": "aa6a7b20-bfd7-4c43-d7eb-a8603b0c75c3"
      },
      "execution_count": 15,
      "outputs": [
        {
          "output_type": "stream",
          "name": "stdout",
          "text": [
            "num_train_samples: 210225\n",
            "num_val_samples: 105112\n",
            "num_test_samples: 105114\n"
          ]
        }
      ]
    },
    {
      "cell_type": "markdown",
      "source": [
        "**<h3>Preparing the data</h3>**\n",
        "\n",
        "**Normalizing the data**"
      ],
      "metadata": {
        "id": "gnE6ZCBSnuUo"
      }
    },
    {
      "cell_type": "code",
      "source": [
        "mean = raw_data[:num_train_samples].mean(axis=0)\n",
        "raw_data -= mean\n",
        "std = raw_data[:num_train_samples].std(axis=0)\n",
        "raw_data /= std"
      ],
      "metadata": {
        "id": "1fZSpCRHbW3S"
      },
      "execution_count": 16,
      "outputs": []
    },
    {
      "cell_type": "code",
      "source": [
        "import numpy as np\n",
        "from tensorflow import keras\n",
        "int_sequence = np.arange(10)\n",
        "dummy_dataset = keras.utils.timeseries_dataset_from_array(\n",
        "    data=int_sequence[:-3],\n",
        "    targets=int_sequence[3:],\n",
        "    sequence_length=3,\n",
        "    batch_size=2,\n",
        ")\n",
        "\n",
        "for inputs, targets in dummy_dataset:\n",
        "    for i in range(inputs.shape[0]):\n",
        "        print([int(x) for x in inputs[i]], int(targets[i]))"
      ],
      "metadata": {
        "colab": {
          "base_uri": "https://localhost:8080/"
        },
        "id": "6CqfpsKIbaTQ",
        "outputId": "edc42a64-fe4c-4e5d-fb82-9936f7df27ce"
      },
      "execution_count": 17,
      "outputs": [
        {
          "output_type": "stream",
          "name": "stdout",
          "text": [
            "[0, 1, 2] 3\n",
            "[1, 2, 3] 4\n",
            "[2, 3, 4] 5\n",
            "[3, 4, 5] 6\n",
            "[4, 5, 6] 7\n"
          ]
        }
      ]
    },
    {
      "cell_type": "markdown",
      "source": [
        "**Instantiating datasets for training, validation, and testing**"
      ],
      "metadata": {
        "id": "QsU33nztp7Pw"
      }
    },
    {
      "cell_type": "code",
      "source": [
        "sampling_rate = 6\n",
        "sequence_length = 120\n",
        "delay = sampling_rate * (sequence_length + 24 - 1)\n",
        "batch_size = 256\n",
        "\n",
        "train_dataset = keras.utils.timeseries_dataset_from_array(\n",
        "    raw_data[:-delay],\n",
        "    targets=temperature[delay:],\n",
        "    sampling_rate=sampling_rate,\n",
        "    sequence_length=sequence_length,\n",
        "    shuffle=True,\n",
        "    batch_size=batch_size,\n",
        "    start_index=0,\n",
        "    end_index=num_train_samples)\n",
        "\n",
        "val_dataset = keras.utils.timeseries_dataset_from_array(\n",
        "    raw_data[:-delay],\n",
        "    targets=temperature[delay:],\n",
        "    sampling_rate=sampling_rate,\n",
        "    sequence_length=sequence_length,\n",
        "    shuffle=True,\n",
        "    batch_size=batch_size,\n",
        "    start_index=num_train_samples,\n",
        "    end_index=num_train_samples + num_val_samples)\n",
        "\n",
        "test_dataset = keras.utils.timeseries_dataset_from_array(\n",
        "    raw_data[:-delay],\n",
        "    targets=temperature[delay:],\n",
        "    sampling_rate=sampling_rate,\n",
        "    sequence_length=sequence_length,\n",
        "    shuffle=True,\n",
        "    batch_size=batch_size,\n",
        "    start_index=num_train_samples + num_val_samples)"
      ],
      "metadata": {
        "id": "Eqqr81yAbh1n"
      },
      "execution_count": 18,
      "outputs": []
    },
    {
      "cell_type": "markdown",
      "source": [
        "**Inspecting the output of one of our datasets**"
      ],
      "metadata": {
        "id": "TgYtCtj-qAcD"
      }
    },
    {
      "cell_type": "code",
      "source": [
        "for samples, targets in train_dataset:\n",
        "    print(\"samples shape:\", samples.shape)\n",
        "    print(\"targets shape:\", targets.shape)\n",
        "    break"
      ],
      "metadata": {
        "colab": {
          "base_uri": "https://localhost:8080/"
        },
        "id": "9jInTGWZblWV",
        "outputId": "5a5480bf-fb1c-4f5f-8216-70d467ea04d1"
      },
      "execution_count": 19,
      "outputs": [
        {
          "output_type": "stream",
          "name": "stdout",
          "text": [
            "samples shape: (256, 120, 14)\n",
            "targets shape: (256,)\n"
          ]
        }
      ]
    },
    {
      "cell_type": "markdown",
      "source": [
        "**<h4>A common-sense, non-machine-learning baseline</h4>**"
      ],
      "metadata": {
        "id": "d1rlMxPJqG2V"
      }
    },
    {
      "cell_type": "markdown",
      "source": [
        "**Computing the common-sense baseline MAE**"
      ],
      "metadata": {
        "id": "ltLHNE1Lq_GS"
      }
    },
    {
      "cell_type": "code",
      "source": [
        "def evaluate_naive_method(dataset):\n",
        "    total_abs_err = 0.\n",
        "    samples_seen = 0\n",
        "    for samples, targets in dataset:\n",
        "        preds = samples[:, -1, 1] * std[1] + mean[1]\n",
        "        total_abs_err += np.sum(np.abs(preds - targets))\n",
        "        samples_seen += samples.shape[0]\n",
        "    return total_abs_err / samples_seen\n",
        "\n",
        "print(f\"Validation MAE: {evaluate_naive_method(val_dataset):.2f}\")\n",
        "print(f\"Test MAE: {evaluate_naive_method(test_dataset):.2f}\")"
      ],
      "metadata": {
        "colab": {
          "base_uri": "https://localhost:8080/"
        },
        "id": "wJ0_qAIjbp-G",
        "outputId": "7562da97-540e-444b-d127-2f107b12b60f"
      },
      "execution_count": 20,
      "outputs": [
        {
          "output_type": "stream",
          "name": "stdout",
          "text": [
            "Validation MAE: 2.44\n",
            "Test MAE: 2.62\n"
          ]
        }
      ]
    },
    {
      "cell_type": "markdown",
      "source": [
        "**<h3>Let's try a basic machine-learning model</h3>**\n",
        "**Training and evaluating a densely connected model**"
      ],
      "metadata": {
        "id": "ahcLkVTrrQaV"
      }
    },
    {
      "cell_type": "code",
      "source": [
        "from tensorflow import keras\n",
        "from tensorflow.keras import layers\n",
        "\n",
        "inputs = keras.Input(shape=(sequence_length, raw_data.shape[-1]))\n",
        "x = layers.Flatten()(inputs)\n",
        "x = layers.Dense(16, activation=\"relu\")(x)\n",
        "outputs = layers.Dense(1)(x)\n",
        "model = keras.Model(inputs, outputs)\n",
        "\n",
        "callbacks = [\n",
        "    keras.callbacks.ModelCheckpoint(\"jena_dense.x\",\n",
        "                                    save_best_only=True)\n",
        "]\n",
        "model.compile(optimizer=\"rmsprop\", loss=\"mse\", metrics=[\"mae\"])\n",
        "history = model.fit(train_dataset,\n",
        "                    epochs=10,\n",
        "                    validation_data=val_dataset,\n",
        "                    callbacks=callbacks)\n",
        "\n",
        "model = keras.models.load_model(\"jena_dense.x\")\n",
        "print(f\"Test MAE: {model.evaluate(test_dataset)[1]:.2f}\")"
      ],
      "metadata": {
        "colab": {
          "base_uri": "https://localhost:8080/"
        },
        "id": "4ZIli-pEb4UA",
        "outputId": "893329d7-2d2c-4e98-9de3-33fe065b9076"
      },
      "execution_count": 21,
      "outputs": [
        {
          "output_type": "stream",
          "name": "stdout",
          "text": [
            "Epoch 1/10\n",
            "819/819 [==============================] - 13s 14ms/step - loss: 13.8142 - mae: 2.8643 - val_loss: 10.4608 - val_mae: 2.5569\n",
            "Epoch 2/10\n",
            "819/819 [==============================] - 11s 14ms/step - loss: 9.3297 - mae: 2.4015 - val_loss: 11.2550 - val_mae: 2.6610\n",
            "Epoch 3/10\n",
            "819/819 [==============================] - 11s 14ms/step - loss: 8.4168 - mae: 2.2843 - val_loss: 12.5869 - val_mae: 2.7988\n",
            "Epoch 4/10\n",
            "819/819 [==============================] - 12s 14ms/step - loss: 7.9121 - mae: 2.2171 - val_loss: 11.4535 - val_mae: 2.6711\n",
            "Epoch 5/10\n",
            "819/819 [==============================] - 11s 13ms/step - loss: 7.5627 - mae: 2.1718 - val_loss: 11.0077 - val_mae: 2.6172\n",
            "Epoch 6/10\n",
            "819/819 [==============================] - 11s 13ms/step - loss: 7.2869 - mae: 2.1343 - val_loss: 10.8137 - val_mae: 2.5855\n",
            "Epoch 7/10\n",
            "819/819 [==============================] - 11s 13ms/step - loss: 7.0671 - mae: 2.1011 - val_loss: 10.8811 - val_mae: 2.5979\n",
            "Epoch 8/10\n",
            "819/819 [==============================] - 11s 13ms/step - loss: 6.9370 - mae: 2.0833 - val_loss: 12.7635 - val_mae: 2.8257\n",
            "Epoch 9/10\n",
            "819/819 [==============================] - 11s 14ms/step - loss: 6.7823 - mae: 2.0615 - val_loss: 11.6761 - val_mae: 2.6983\n",
            "Epoch 10/10\n",
            "819/819 [==============================] - 11s 13ms/step - loss: 6.6728 - mae: 2.0429 - val_loss: 11.3455 - val_mae: 2.6610\n",
            "405/405 [==============================] - 4s 9ms/step - loss: 11.3762 - mae: 2.6516\n",
            "Test MAE: 2.65\n"
          ]
        }
      ]
    },
    {
      "cell_type": "code",
      "source": [
        "from tensorflow import keras\n",
        "from tensorflow.keras import layers\n",
        "\n",
        "inputs = keras.Input(shape=(sequence_length, raw_data.shape[-1]))\n",
        "x = layers.Flatten()(inputs)\n",
        "x = layers.Dense(64, activation=\"relu\")(x) # Tried different dense units of 8, 32, 64 apart from 16 which is given in actual code\n",
        "outputs = layers.Dense(1)(x)\n",
        "model = keras.Model(inputs, outputs)\n",
        "\n",
        "callbacks = [\n",
        "    keras.callbacks.ModelCheckpoint(\"jena_dense.x\",\n",
        "                                    save_best_only=True)\n",
        "]\n",
        "model.compile(optimizer=\"rmsprop\", loss=\"mse\", metrics=[\"mae\"])\n",
        "history = model.fit(train_dataset,\n",
        "                    epochs=10,\n",
        "                    validation_data=val_dataset,\n",
        "                    callbacks=callbacks)\n",
        "\n",
        "model = keras.models.load_model(\"jena_dense.x\")\n",
        "print(f\"Test MAE: {model.evaluate(test_dataset)[1]:.2f}\")"
      ],
      "metadata": {
        "colab": {
          "base_uri": "https://localhost:8080/"
        },
        "id": "wDtlKl9Dde-5",
        "outputId": "389fa566-3ee6-4907-df17-38291de8103b"
      },
      "execution_count": 22,
      "outputs": [
        {
          "output_type": "stream",
          "name": "stdout",
          "text": [
            "Epoch 1/10\n",
            "819/819 [==============================] - 12s 14ms/step - loss: 12.7730 - mae: 2.7678 - val_loss: 12.4039 - val_mae: 2.7890\n",
            "Epoch 2/10\n",
            "819/819 [==============================] - 11s 14ms/step - loss: 8.6801 - mae: 2.3152 - val_loss: 9.8516 - val_mae: 2.4658\n",
            "Epoch 3/10\n",
            "819/819 [==============================] - 11s 14ms/step - loss: 7.4891 - mae: 2.1492 - val_loss: 10.8361 - val_mae: 2.5893\n",
            "Epoch 4/10\n",
            "819/819 [==============================] - 11s 13ms/step - loss: 6.7717 - mae: 2.0466 - val_loss: 13.0996 - val_mae: 2.8605\n",
            "Epoch 5/10\n",
            "819/819 [==============================] - 11s 14ms/step - loss: 6.2321 - mae: 1.9633 - val_loss: 10.8158 - val_mae: 2.5824\n",
            "Epoch 6/10\n",
            "819/819 [==============================] - 11s 14ms/step - loss: 5.8260 - mae: 1.8997 - val_loss: 10.8652 - val_mae: 2.5937\n",
            "Epoch 7/10\n",
            "819/819 [==============================] - 11s 14ms/step - loss: 5.4779 - mae: 1.8425 - val_loss: 13.0084 - val_mae: 2.8387\n",
            "Epoch 8/10\n",
            "819/819 [==============================] - 11s 14ms/step - loss: 5.1743 - mae: 1.7920 - val_loss: 11.2764 - val_mae: 2.6475\n",
            "Epoch 9/10\n",
            "819/819 [==============================] - 11s 14ms/step - loss: 4.9147 - mae: 1.7434 - val_loss: 14.5187 - val_mae: 3.0457\n",
            "Epoch 10/10\n",
            "819/819 [==============================] - 11s 14ms/step - loss: 4.7282 - mae: 1.7139 - val_loss: 12.8244 - val_mae: 2.8351\n",
            "405/405 [==============================] - 4s 9ms/step - loss: 10.8939 - mae: 2.6040\n",
            "Test MAE: 2.60\n"
          ]
        }
      ]
    },
    {
      "cell_type": "code",
      "source": [
        "model.summary()"
      ],
      "metadata": {
        "id": "o-Ui09nm3fF_",
        "colab": {
          "base_uri": "https://localhost:8080/"
        },
        "outputId": "03a161ba-be32-405f-a138-7bd3dc34ea63"
      },
      "execution_count": 23,
      "outputs": [
        {
          "output_type": "stream",
          "name": "stdout",
          "text": [
            "Model: \"model_1\"\n",
            "_________________________________________________________________\n",
            " Layer (type)                Output Shape              Param #   \n",
            "=================================================================\n",
            " input_2 (InputLayer)        [(None, 120, 14)]         0         \n",
            "                                                                 \n",
            " flatten_1 (Flatten)         (None, 1680)              0         \n",
            "                                                                 \n",
            " dense_2 (Dense)             (None, 64)                107584    \n",
            "                                                                 \n",
            " dense_3 (Dense)             (None, 1)                 65        \n",
            "                                                                 \n",
            "=================================================================\n",
            "Total params: 107649 (420.50 KB)\n",
            "Trainable params: 107649 (420.50 KB)\n",
            "Non-trainable params: 0 (0.00 Byte)\n",
            "_________________________________________________________________\n"
          ]
        }
      ]
    },
    {
      "cell_type": "markdown",
      "source": [
        "**Plotting results**"
      ],
      "metadata": {
        "id": "lIZoexh4rpOq"
      }
    },
    {
      "cell_type": "code",
      "source": [
        "import matplotlib.pyplot as plt\n",
        "loss = history.history[\"mae\"]\n",
        "val_loss = history.history[\"val_mae\"]\n",
        "epochs = range(1, len(loss) + 1)\n",
        "plt.figure()\n",
        "plt.plot(epochs, loss, \"bo\", label=\"Training MAE\")\n",
        "plt.plot(epochs, val_loss, \"b\", label=\"Validation MAE\")\n",
        "plt.title(\"Training and validation MAE\")\n",
        "plt.legend()\n",
        "plt.show()"
      ],
      "metadata": {
        "colab": {
          "base_uri": "https://localhost:8080/",
          "height": 452
        },
        "id": "_wXu7FaPgf_d",
        "outputId": "c732282d-f3ca-4543-9923-332036cc4687"
      },
      "execution_count": 24,
      "outputs": [
        {
          "output_type": "display_data",
          "data": {
            "text/plain": [
              "<Figure size 640x480 with 1 Axes>"
            ],
            "image/png": "[encoded data removed]"
          },
          "metadata": {}
        }
      ]
    },
    {
      "cell_type": "markdown",
      "source": [
        "**Let's try a 1D convolutional model**\n"
      ],
      "metadata": {
        "id": "a1Oa_icSruES"
      }
    },
    {
      "cell_type": "code",
      "source": [
        "from tensorflow import keras\n",
        "from tensorflow.keras import layers\n",
        "inputs = keras.Input(shape=(sequence_length, raw_data.shape[-1]))\n",
        "conv_x = layers.Conv1D(8, 24, activation=\"relu\")(inputs)\n",
        "conv_x = layers.MaxPooling1D(2)(conv_x)\n",
        "conv_x = layers.Conv1D(8, 12, activation=\"relu\")(conv_x)\n",
        "conv_x = layers.MaxPooling1D(2)(conv_x)\n",
        "conv_x = layers.Conv1D(8, 6, activation=\"relu\")(conv_x)\n",
        "conv_x = layers.GlobalAveragePooling1D()(conv_x)\n",
        "outputs = layers.Dense(1)(conv_x)\n",
        "model = keras.Model(inputs, outputs)\n",
        "\n",
        "callbacks = [\n",
        "    keras.callbacks.ModelCheckpoint(\"jena_conv.conv_x\",\n",
        "                                    save_best_only=True)\n",
        "]\n",
        "model.compile(optimizer=\"rmsprop\", loss=\"mse\", metrics=[\"mae\"])\n",
        "history = model.fit(train_dataset,\n",
        "                    epochs=10,\n",
        "                    validation_data=val_dataset,\n",
        "                    callbacks=callbacks)\n",
        "\n",
        "model = keras.models.load_model(\"jena_conv.conv_x\")\n",
        "print(f\"Test MAE: {model.evaluate(test_dataset)[1]:.2f}\")"
      ],
      "metadata": {
        "colab": {
          "base_uri": "https://localhost:8080/"
        },
        "id": "9YAnASxDgnWT",
        "outputId": "7f81ffc6-5e6f-4bd2-a203-0204562ab8f7"
      },
      "execution_count": 25,
      "outputs": [
        {
          "output_type": "stream",
          "name": "stdout",
          "text": [
            "Epoch 1/10\n",
            "819/819 [==============================] - 15s 16ms/step - loss: 22.1177 - mae: 3.6712 - val_loss: 16.2495 - val_mae: 3.1734\n",
            "Epoch 2/10\n",
            "819/819 [==============================] - 12s 15ms/step - loss: 15.3976 - mae: 3.1114 - val_loss: 15.9620 - val_mae: 3.1727\n",
            "Epoch 3/10\n",
            "819/819 [==============================] - 12s 15ms/step - loss: 14.3613 - mae: 3.0042 - val_loss: 15.6863 - val_mae: 3.1444\n",
            "Epoch 4/10\n",
            "819/819 [==============================] - 12s 15ms/step - loss: 13.5870 - mae: 2.9213 - val_loss: 15.5898 - val_mae: 3.1009\n",
            "Epoch 5/10\n",
            "819/819 [==============================] - 12s 15ms/step - loss: 12.9138 - mae: 2.8461 - val_loss: 14.1066 - val_mae: 2.9436\n",
            "Epoch 6/10\n",
            "819/819 [==============================] - 11s 14ms/step - loss: 12.3847 - mae: 2.7831 - val_loss: 14.9282 - val_mae: 3.0529\n",
            "Epoch 7/10\n",
            "819/819 [==============================] - 11s 14ms/step - loss: 11.9615 - mae: 2.7309 - val_loss: 15.3528 - val_mae: 3.0703\n",
            "Epoch 8/10\n",
            "819/819 [==============================] - 11s 14ms/step - loss: 11.5359 - mae: 2.6787 - val_loss: 14.6759 - val_mae: 3.0141\n",
            "Epoch 9/10\n",
            "819/819 [==============================] - 12s 14ms/step - loss: 11.1739 - mae: 2.6349 - val_loss: 14.6495 - val_mae: 3.0041\n",
            "Epoch 10/10\n",
            "819/819 [==============================] - 11s 14ms/step - loss: 10.8276 - mae: 2.5892 - val_loss: 17.6478 - val_mae: 3.2871\n",
            "405/405 [==============================] - 4s 9ms/step - loss: 15.0169 - mae: 3.0738\n",
            "Test MAE: 3.07\n"
          ]
        }
      ]
    },
    {
      "cell_type": "code",
      "source": [
        "model.summary()"
      ],
      "metadata": {
        "id": "XqGQZ4yg3SVg",
        "colab": {
          "base_uri": "https://localhost:8080/"
        },
        "outputId": "6a362dfa-8742-4db9-f8c8-6d51ea7e4a8e"
      },
      "execution_count": 26,
      "outputs": [
        {
          "output_type": "stream",
          "name": "stdout",
          "text": [
            "Model: \"model_2\"\n",
            "_________________________________________________________________\n",
            " Layer (type)                Output Shape              Param #   \n",
            "=================================================================\n",
            " input_3 (InputLayer)        [(None, 120, 14)]         0         \n",
            "                                                                 \n",
            " conv1d (Conv1D)             (None, 97, 8)             2696      \n",
            "                                                                 \n",
            " max_pooling1d (MaxPooling1  (None, 48, 8)             0         \n",
            " D)                                                              \n",
            "                                                                 \n",
            " conv1d_1 (Conv1D)           (None, 37, 8)             776       \n",
            "                                                                 \n",
            " max_pooling1d_1 (MaxPoolin  (None, 18, 8)             0         \n",
            " g1D)                                                            \n",
            "                                                                 \n",
            " conv1d_2 (Conv1D)           (None, 13, 8)             392       \n",
            "                                                                 \n",
            " global_average_pooling1d (  (None, 8)                 0         \n",
            " GlobalAveragePooling1D)                                         \n",
            "                                                                 \n",
            " dense_4 (Dense)             (None, 1)                 9         \n",
            "                                                                 \n",
            "=================================================================\n",
            "Total params: 3873 (15.13 KB)\n",
            "Trainable params: 3873 (15.13 KB)\n",
            "Non-trainable params: 0 (0.00 Byte)\n",
            "_________________________________________________________________\n"
          ]
        }
      ]
    },
    {
      "cell_type": "markdown",
      "source": [
        "**<h3>A first recurrent baseline</h3>**\n",
        "**A simple LSTM-based model**"
      ],
      "metadata": {
        "id": "Jla4XJYzsG-I"
      }
    },
    {
      "cell_type": "code",
      "source": [
        "inputs = keras.Input(shape=(sequence_length, raw_data.shape[-1]))\n",
        "x = layers.LSTM(16)(inputs)\n",
        "outputs = layers.Dense(1)(x)\n",
        "model = keras.Model(inputs, outputs)\n",
        "\n",
        "callbacks = [\n",
        "    keras.callbacks.ModelCheckpoint(\"jena_lstm.x\",\n",
        "                                    save_best_only=True)\n",
        "]\n",
        "model.compile(optimizer=\"rmsprop\", loss=\"mse\", metrics=[\"mae\"])\n",
        "history = model.fit(train_dataset,\n",
        "                    epochs=10,\n",
        "                    validation_data=val_dataset,\n",
        "                    callbacks=callbacks)\n",
        "\n",
        "model = keras.models.load_model(\"jena_lstm.x\")\n",
        "print(f\"Test MAE: {model.evaluate(test_dataset)[1]:.2f}\")"
      ],
      "metadata": {
        "colab": {
          "base_uri": "https://localhost:8080/"
        },
        "id": "62P8HyNokc4m",
        "outputId": "9d7a001d-3a00-4c12-8c36-7c98f8236b08"
      },
      "execution_count": 27,
      "outputs": [
        {
          "output_type": "stream",
          "name": "stdout",
          "text": [
            "Epoch 1/10\n",
            "819/819 [==============================] - 17s 19ms/step - loss: 43.6859 - mae: 4.8081 - val_loss: 13.0499 - val_mae: 2.7453\n",
            "Epoch 2/10\n",
            "819/819 [==============================] - 15s 18ms/step - loss: 11.0795 - mae: 2.5840 - val_loss: 9.9770 - val_mae: 2.4488\n",
            "Epoch 3/10\n",
            "819/819 [==============================] - 12s 15ms/step - loss: 9.7480 - mae: 2.4375 - val_loss: 10.4237 - val_mae: 2.4635\n",
            "Epoch 4/10\n",
            "819/819 [==============================] - 12s 15ms/step - loss: 9.3784 - mae: 2.3904 - val_loss: 9.9946 - val_mae: 2.4373\n",
            "Epoch 5/10\n",
            "819/819 [==============================] - 15s 18ms/step - loss: 9.0832 - mae: 2.3473 - val_loss: 9.9537 - val_mae: 2.4353\n",
            "Epoch 6/10\n",
            "819/819 [==============================] - 15s 18ms/step - loss: 8.8392 - mae: 2.3130 - val_loss: 9.7423 - val_mae: 2.4102\n",
            "Epoch 7/10\n",
            "819/819 [==============================] - 12s 15ms/step - loss: 8.6534 - mae: 2.2878 - val_loss: 11.9105 - val_mae: 2.5416\n",
            "Epoch 8/10\n",
            "819/819 [==============================] - 15s 18ms/step - loss: 8.4900 - mae: 2.2630 - val_loss: 9.5328 - val_mae: 2.3876\n",
            "Epoch 9/10\n",
            "819/819 [==============================] - 13s 15ms/step - loss: 8.3276 - mae: 2.2418 - val_loss: 10.2943 - val_mae: 2.4529\n",
            "Epoch 10/10\n",
            "819/819 [==============================] - 12s 15ms/step - loss: 8.1649 - mae: 2.2195 - val_loss: 10.3432 - val_mae: 2.4712\n",
            "405/405 [==============================] - 4s 9ms/step - loss: 10.9528 - mae: 2.5985\n",
            "Test MAE: 2.60\n"
          ]
        }
      ]
    },
    {
      "cell_type": "markdown",
      "source": [
        "**<h3>Understanding recurrent neural networks</h3>**\n",
        "**NumPy implementation of a simple RNN**"
      ],
      "metadata": {
        "id": "pqp0r2t6sTnN"
      }
    },
    {
      "cell_type": "code",
      "source": [
        "import numpy as np\n",
        "timesteps = 100\n",
        "input_features = 32\n",
        "output_features = 64\n",
        "inputs = np.random.random((timesteps, input_features))\n",
        "state_t = np.zeros((output_features,))\n",
        "W = np.random.random((output_features, input_features))\n",
        "U = np.random.random((output_features, output_features))\n",
        "b = np.random.random((output_features,))\n",
        "successive_outputs = []\n",
        "for input_t in inputs:\n",
        "    output_t = np.tanh(np.dot(W, input_t) + np.dot(U, state_t) + b)\n",
        "    successive_outputs.append(output_t)\n",
        "    state_t = output_t\n",
        "final_output_sequence = np.stack(successive_outputs, axis=0)"
      ],
      "metadata": {
        "id": "L45lx6w2nN0g"
      },
      "execution_count": 28,
      "outputs": []
    },
    {
      "cell_type": "markdown",
      "source": [
        "**<h3>A recurrent layer in Keras</h3>**\n",
        "**An RNN layer that can process sequences of any length**"
      ],
      "metadata": {
        "id": "F3hCBPvTsgQb"
      }
    },
    {
      "cell_type": "code",
      "source": [
        "num_features = 14\n",
        "inputs = keras.Input(shape=(None, num_features))\n",
        "outputs = layers.SimpleRNN(16)(inputs)"
      ],
      "metadata": {
        "id": "BqULhvserc06"
      },
      "execution_count": 29,
      "outputs": []
    },
    {
      "cell_type": "markdown",
      "source": [
        "**An RNN layer that returns only its last output step**"
      ],
      "metadata": {
        "id": "NPbU3DRIst2L"
      }
    },
    {
      "cell_type": "code",
      "source": [
        "num_features = 14\n",
        "steps = 120\n",
        "inputs = keras.Input(shape=(steps, num_features))\n",
        "outputs = layers.SimpleRNN(16, return_sequences=False)(inputs)\n",
        "print(outputs.shape)"
      ],
      "metadata": {
        "colab": {
          "base_uri": "https://localhost:8080/"
        },
        "id": "cTXbYPItreaR",
        "outputId": "6d99d439-2f82-4d57-aa19-0f79d85b1223"
      },
      "execution_count": 30,
      "outputs": [
        {
          "output_type": "stream",
          "name": "stdout",
          "text": [
            "(None, 16)\n"
          ]
        }
      ]
    },
    {
      "cell_type": "markdown",
      "source": [
        "**An RNN layer that returns its full output sequence**"
      ],
      "metadata": {
        "id": "_X8wljsZsyqx"
      }
    },
    {
      "cell_type": "code",
      "source": [
        "num_features = 14\n",
        "steps = 120\n",
        "inputs = keras.Input(shape=(steps, num_features))\n",
        "outputs = layers.SimpleRNN(16, return_sequences=True)(inputs)\n",
        "print(outputs.shape)"
      ],
      "metadata": {
        "colab": {
          "base_uri": "https://localhost:8080/"
        },
        "id": "4sJHwrQ4rjr3",
        "outputId": "4f08fa5b-8f4b-4af4-dc84-65e913564044"
      },
      "execution_count": 31,
      "outputs": [
        {
          "output_type": "stream",
          "name": "stdout",
          "text": [
            "(None, 120, 16)\n"
          ]
        }
      ]
    },
    {
      "cell_type": "markdown",
      "source": [
        "**Stacking RNN layers**"
      ],
      "metadata": {
        "id": "A6Y-lLGHs2C3"
      }
    },
    {
      "cell_type": "code",
      "source": [
        "inputs = keras.Input(shape=(steps, num_features))\n",
        "x = layers.SimpleRNN(16, return_sequences=True)(inputs)\n",
        "x = layers.SimpleRNN(16, return_sequences=True)(x)\n",
        "outputs = layers.SimpleRNN(16)(x)"
      ],
      "metadata": {
        "id": "Duwm-opnrm5R"
      },
      "execution_count": 32,
      "outputs": []
    },
    {
      "cell_type": "markdown",
      "source": [
        "**<h3>Advanced use of recurrent neural networks</h3>**\n",
        "\n",
        "**Using recurrent dropout to fight overfitting**\n",
        "\n",
        "**Training and evaluating a dropout-regularized LSTM**"
      ],
      "metadata": {
        "id": "nmH6ZNR2s_m2"
      }
    },
    {
      "cell_type": "code",
      "source": [
        "inputs = keras.Input(shape=(sequence_length, raw_data.shape[-1]))\n",
        "lstm_x = layers.LSTM(16, recurrent_dropout=0.25)(inputs)\n",
        "lstm_x = layers.Dropout(0.5)(lstm_x)\n",
        "outputs = layers.Dense(1)(lstm_x)\n",
        "model = keras.Model(inputs, outputs)\n",
        "\n",
        "callbacks = [\n",
        "    keras.callbacks.ModelCheckpoint(\"jena_lstm_dropout.lstm_x\",\n",
        "                                    save_best_only=True)\n",
        "]\n",
        "model.compile(optimizer=\"rmsprop\", loss=\"mse\", metrics=[\"mae\"])\n",
        "history = model.fit(train_dataset,\n",
        "                    epochs=10,\n",
        "                    validation_data=val_dataset,\n",
        "                    callbacks=callbacks)\n",
        "model = keras.models.load_model(\"jena_lstm_dropout.lstm_x\")\n",
        "print(f\"Test MAE: {model.evaluate(test_dataset)[1]:.2f}\")"
      ],
      "metadata": {
        "colab": {
          "base_uri": "https://localhost:8080/"
        },
        "id": "hVkcHC8hrpvd",
        "outputId": "6bea66c6-df25-4a03-f3e3-428e31673cc0"
      },
      "execution_count": 33,
      "outputs": [
        {
          "output_type": "stream",
          "name": "stderr",
          "text": [
            "WARNING:tensorflow:Layer lstm_1 will not use cuDNN kernels since it doesn't meet the criteria. It will use a generic GPU kernel as fallback when running on GPU.\n"
          ]
        },
        {
          "output_type": "stream",
          "name": "stdout",
          "text": [
            "Epoch 1/10\n",
            "819/819 [==============================] - 196s 236ms/step - loss: 43.1397 - mae: 4.8845 - val_loss: 12.4451 - val_mae: 2.6754\n",
            "Epoch 2/10\n",
            "819/819 [==============================] - 195s 239ms/step - loss: 19.5403 - mae: 3.4020 - val_loss: 9.6194 - val_mae: 2.4015\n",
            "Epoch 3/10\n",
            "819/819 [==============================] - 195s 238ms/step - loss: 18.0301 - mae: 3.2631 - val_loss: 9.4388 - val_mae: 2.3879\n",
            "Epoch 4/10\n",
            "819/819 [==============================] - 194s 236ms/step - loss: 17.1984 - mae: 3.1922 - val_loss: 9.3546 - val_mae: 2.3859\n",
            "Epoch 5/10\n",
            "819/819 [==============================] - 194s 237ms/step - loss: 16.6836 - mae: 3.1407 - val_loss: 9.2494 - val_mae: 2.3780\n",
            "Epoch 6/10\n",
            "819/819 [==============================] - 191s 234ms/step - loss: 16.2919 - mae: 3.1042 - val_loss: 9.5760 - val_mae: 2.4106\n",
            "Epoch 7/10\n",
            "819/819 [==============================] - 192s 234ms/step - loss: 15.9649 - mae: 3.0752 - val_loss: 9.2743 - val_mae: 2.3794\n",
            "Epoch 8/10\n",
            "819/819 [==============================] - 193s 236ms/step - loss: 15.6072 - mae: 3.0472 - val_loss: 9.1969 - val_mae: 2.3668\n",
            "Epoch 9/10\n",
            "819/819 [==============================] - 192s 234ms/step - loss: 15.3903 - mae: 3.0258 - val_loss: 9.4423 - val_mae: 2.3976\n",
            "Epoch 10/10\n",
            "819/819 [==============================] - 191s 233ms/step - loss: 15.1322 - mae: 3.0021 - val_loss: 9.3968 - val_mae: 2.3859\n"
          ]
        },
        {
          "output_type": "stream",
          "name": "stderr",
          "text": [
            "WARNING:tensorflow:Layer lstm_1 will not use cuDNN kernels since it doesn't meet the criteria. It will use a generic GPU kernel as fallback when running on GPU.\n"
          ]
        },
        {
          "output_type": "stream",
          "name": "stdout",
          "text": [
            "405/405 [==============================] - 16s 38ms/step - loss: 10.5762 - mae: 2.5684\n",
            "Test MAE: 2.57\n"
          ]
        }
      ]
    },
    {
      "cell_type": "markdown",
      "source": [
        "**Plotting results of dropout-regularized LSTM**\n",
        "\n"
      ],
      "metadata": {
        "id": "I2vORd-BvfDD"
      }
    },
    {
      "cell_type": "code",
      "source": [
        "import matplotlib.pyplot as plt\n",
        "loss = history.history[\"mae\"]\n",
        "val_loss = history.history[\"val_mae\"]\n",
        "epochs = range(1, len(loss) + 1)\n",
        "plt.figure()\n",
        "plt.plot(epochs, loss, \"bo\", label=\"Training MAE\")\n",
        "plt.plot(epochs, val_loss, \"b\", label=\"Validation MAE\")\n",
        "plt.title(\"Training and validation MAE\")\n",
        "plt.legend()\n",
        "plt.show()"
      ],
      "metadata": {
        "colab": {
          "base_uri": "https://localhost:8080/",
          "height": 452
        },
        "id": "taTFZkrvvnrW",
        "outputId": "970c5e2c-ce1e-46f7-c9b5-02ccdefbf412"
      },
      "execution_count": 34,
      "outputs": [
        {
          "output_type": "display_data",
          "data": {
            "text/plain": [
              "<Figure size 640x480 with 1 Axes>"
            ],
            "image/png": "[encoded data removed]"
          },
          "metadata": {}
        }
      ]
    },
    {
      "cell_type": "code",
      "source": [
        "inputs = keras.Input(shape=(sequence_length, num_features))\n",
        "x = layers.LSTM(16, recurrent_dropout=0.2, unroll=True)(inputs)"
      ],
      "metadata": {
        "id": "-sNKICqfvsmR",
        "colab": {
          "base_uri": "https://localhost:8080/"
        },
        "outputId": "31da3720-5f69-446d-b255-230b5c045bff"
      },
      "execution_count": 35,
      "outputs": [
        {
          "output_type": "stream",
          "name": "stderr",
          "text": [
            "WARNING:tensorflow:Layer lstm_2 will not use cuDNN kernels since it doesn't meet the criteria. It will use a generic GPU kernel as fallback when running on GPU.\n"
          ]
        }
      ]
    },
    {
      "cell_type": "markdown",
      "source": [
        "**<h3>Stacking recurrent layers</h3>**\n",
        "\n",
        "**Training and evaluating a dropout-regularized, stacked GRU model- Not needed**"
      ],
      "metadata": {
        "id": "cCYUOlXLvpBj"
      }
    },
    {
      "cell_type": "code",
      "source": [
        "inputs = keras.Input(shape=(sequence_length, raw_data.shape[-1]))\n",
        "x = layers.GRU(32, recurrent_dropout=0.5, return_sequences=True)(inputs)\n",
        "x = layers.GRU(32, recurrent_dropout=0.5)(x)\n",
        "x = layers.Dropout(0.5)(x)\n",
        "outputs = layers.Dense(1)(x)\n",
        "model = keras.Model(inputs, outputs)\n",
        "\n",
        "callbacks = [\n",
        "    keras.callbacks.ModelCheckpoint(\"jena_stacked_gru_dropout.x\",\n",
        "                                    save_best_only=True)\n",
        "]\n",
        "model.compile(optimizer=\"rmsprop\", loss=\"mse\", metrics=[\"mae\"])\n",
        "history = model.fit(train_dataset,\n",
        "                    epochs=10,\n",
        "                    validation_data=val_dataset,\n",
        "                    callbacks=callbacks)\n",
        "model = keras.models.load_model(\"jena_stacked_gru_dropout.x\")\n",
        "print(f\"Test MAE: {model.evaluate(test_dataset)[1]:.2f}\")"
      ],
      "metadata": {
        "colab": {
          "base_uri": "https://localhost:8080/"
        },
        "id": "HAbtWOgNvx2K",
        "outputId": "67b36685-29d6-4ec2-a99e-28c2d54340a7"
      },
      "execution_count": 36,
      "outputs": [
        {
          "output_type": "stream",
          "name": "stderr",
          "text": [
            "WARNING:tensorflow:Layer gru will not use cuDNN kernels since it doesn't meet the criteria. It will use a generic GPU kernel as fallback when running on GPU.\n",
            "WARNING:tensorflow:Layer gru_1 will not use cuDNN kernels since it doesn't meet the criteria. It will use a generic GPU kernel as fallback when running on GPU.\n"
          ]
        },
        {
          "output_type": "stream",
          "name": "stdout",
          "text": [
            "Epoch 1/10\n",
            "819/819 [==============================] - 383s 463ms/step - loss: 25.7442 - mae: 3.7359 - val_loss: 9.5278 - val_mae: 2.3955\n",
            "Epoch 2/10\n",
            "819/819 [==============================] - 378s 461ms/step - loss: 13.9171 - mae: 2.8935 - val_loss: 8.7195 - val_mae: 2.2905\n",
            "Epoch 3/10\n",
            "819/819 [==============================] - 374s 457ms/step - loss: 13.2817 - mae: 2.8231 - val_loss: 8.8984 - val_mae: 2.3159\n",
            "Epoch 4/10\n",
            "819/819 [==============================] - 377s 461ms/step - loss: 12.6723 - mae: 2.7643 - val_loss: 8.5117 - val_mae: 2.2645\n",
            "Epoch 5/10\n",
            "819/819 [==============================] - 375s 458ms/step - loss: 12.2197 - mae: 2.7141 - val_loss: 8.6371 - val_mae: 2.2822\n",
            "Epoch 6/10\n",
            "819/819 [==============================] - 375s 458ms/step - loss: 11.7325 - mae: 2.6616 - val_loss: 9.0479 - val_mae: 2.3340\n",
            "Epoch 7/10\n",
            "819/819 [==============================] - 373s 456ms/step - loss: 11.4305 - mae: 2.6266 - val_loss: 8.6479 - val_mae: 2.2850\n",
            "Epoch 8/10\n",
            "819/819 [==============================] - 373s 455ms/step - loss: 11.0176 - mae: 2.5811 - val_loss: 8.7238 - val_mae: 2.2960\n",
            "Epoch 9/10\n",
            "819/819 [==============================] - 374s 456ms/step - loss: 10.7141 - mae: 2.5469 - val_loss: 8.8063 - val_mae: 2.3095\n",
            "Epoch 10/10\n",
            "819/819 [==============================] - 374s 456ms/step - loss: 10.4399 - mae: 2.5110 - val_loss: 9.4018 - val_mae: 2.3803\n"
          ]
        },
        {
          "output_type": "stream",
          "name": "stderr",
          "text": [
            "WARNING:tensorflow:Layer gru will not use cuDNN kernels since it doesn't meet the criteria. It will use a generic GPU kernel as fallback when running on GPU.\n",
            "WARNING:tensorflow:Layer gru_1 will not use cuDNN kernels since it doesn't meet the criteria. It will use a generic GPU kernel as fallback when running on GPU.\n"
          ]
        },
        {
          "output_type": "stream",
          "name": "stdout",
          "text": [
            "405/405 [==============================] - 28s 67ms/step - loss: 9.3932 - mae: 2.3952\n",
            "Test MAE: 2.40\n"
          ]
        }
      ]
    },
    {
      "cell_type": "markdown",
      "source": [
        "**<h2>Using bidirectional RNNs</h2>**\n",
        "**Training and evaluating a bidirectional LSTM**"
      ],
      "metadata": {
        "id": "BulmNTLQBP_-"
      }
    },
    {
      "cell_type": "code",
      "source": [
        "inputs = keras.Input(shape=(sequence_length, raw_data.shape[-1]))\n",
        "x = layers.Bidirectional(layers.LSTM(16))(inputs)\n",
        "outputs = layers.Dense(1)(x)\n",
        "model = keras.Model(inputs, outputs)\n",
        "\n",
        "model.compile(optimizer=\"rmsprop\", loss=\"mse\", metrics=[\"mae\"])\n",
        "history = model.fit(train_dataset,\n",
        "                    epochs=10,\n",
        "                    validation_data=val_dataset)\n",
        "test_mae = model.evaluate(test_dataset)[1]\n",
        "print(f\"Test MAE: {test_mae:.2f}\")"
      ],
      "metadata": {
        "colab": {
          "base_uri": "https://localhost:8080/"
        },
        "id": "obKANfq73l_F",
        "outputId": "65d57d16-3e40-49c4-df70-96e298790854"
      },
      "execution_count": 37,
      "outputs": [
        {
          "output_type": "stream",
          "name": "stdout",
          "text": [
            "Epoch 1/10\n",
            "819/819 [==============================] - 18s 19ms/step - loss: 23.4811 - mae: 3.5134 - val_loss: 10.6713 - val_mae: 2.5268\n",
            "Epoch 2/10\n",
            "819/819 [==============================] - 15s 18ms/step - loss: 9.6570 - mae: 2.4250 - val_loss: 9.4609 - val_mae: 2.3898\n",
            "Epoch 3/10\n",
            "819/819 [==============================] - 15s 18ms/step - loss: 8.8678 - mae: 2.3222 - val_loss: 9.7699 - val_mae: 2.4287\n",
            "Epoch 4/10\n",
            "819/819 [==============================] - 15s 18ms/step - loss: 8.2811 - mae: 2.2375 - val_loss: 9.9586 - val_mae: 2.4562\n",
            "Epoch 5/10\n",
            "819/819 [==============================] - 15s 18ms/step - loss: 7.6443 - mae: 2.1509 - val_loss: 10.4672 - val_mae: 2.5047\n",
            "Epoch 6/10\n",
            "819/819 [==============================] - 14s 17ms/step - loss: 7.2890 - mae: 2.1026 - val_loss: 11.1467 - val_mae: 2.5802\n",
            "Epoch 7/10\n",
            "819/819 [==============================] - 14s 17ms/step - loss: 7.0678 - mae: 2.0719 - val_loss: 10.9715 - val_mae: 2.5593\n",
            "Epoch 8/10\n",
            "819/819 [==============================] - 14s 17ms/step - loss: 6.8418 - mae: 2.0407 - val_loss: 10.5425 - val_mae: 2.5050\n",
            "Epoch 9/10\n",
            "819/819 [==============================] - 14s 18ms/step - loss: 6.6763 - mae: 2.0166 - val_loss: 10.8562 - val_mae: 2.5433\n",
            "Epoch 10/10\n",
            "819/819 [==============================] - 15s 18ms/step - loss: 6.5164 - mae: 1.9935 - val_loss: 10.2819 - val_mae: 2.4812\n",
            "405/405 [==============================] - 4s 9ms/step - loss: 11.4920 - mae: 2.6433\n",
            "Test MAE: 2.64\n"
          ]
        }
      ]
    },
    {
      "cell_type": "code",
      "source": [
        "### Combination of 1D Convent and dropout-regularized LSTM\n",
        "\n",
        "combined = layers.concatenate([conv_x, lstm_x])\n",
        "outputs = layers.Dense(1)(combined)\n",
        "model.compile(optimizer=\"rmsprop\", loss=\"mse\", metrics=[\"mae\"])\n",
        "history = model.fit(train_dataset, epochs=5, validation_data=val_dataset)\n",
        "test_mae = model.evaluate(test_dataset)[1]\n",
        "print(f\"Test MAE: {test_mae:.2f}\")"
      ],
      "metadata": {
        "colab": {
          "base_uri": "https://localhost:8080/"
        },
        "id": "qXbdzz-j7g7e",
        "outputId": "dc2a37be-0501-44b0-975f-60ee59eb0942"
      },
      "execution_count": 38,
      "outputs": [
        {
          "output_type": "stream",
          "name": "stdout",
          "text": [
            "Epoch 1/5\n",
            "819/819 [==============================] - 19s 19ms/step - loss: 6.3800 - mae: 1.9726 - val_loss: 10.3770 - val_mae: 2.4896\n",
            "Epoch 2/5\n",
            "819/819 [==============================] - 15s 18ms/step - loss: 6.2980 - mae: 1.9601 - val_loss: 10.7828 - val_mae: 2.5360\n",
            "Epoch 3/5\n",
            "819/819 [==============================] - 14s 17ms/step - loss: 6.2092 - mae: 1.9467 - val_loss: 10.7261 - val_mae: 2.5309\n",
            "Epoch 4/5\n",
            "819/819 [==============================] - 15s 18ms/step - loss: 6.1339 - mae: 1.9345 - val_loss: 11.3614 - val_mae: 2.5968\n",
            "Epoch 5/5\n",
            "819/819 [==============================] - 15s 18ms/step - loss: 6.0740 - mae: 1.9220 - val_loss: 11.2150 - val_mae: 2.5917\n",
            "405/405 [==============================] - 4s 9ms/step - loss: 12.2236 - mae: 2.7208\n",
            "Test MAE: 2.72\n"
          ]
        }
      ]
    },
    {
      "cell_type": "markdown",
      "source": [
        "**Plotting results of the combination**\n"
      ],
      "metadata": {
        "id": "xryBmAy4AHnr"
      }
    },
    {
      "cell_type": "code",
      "source": [
        "import matplotlib.pyplot as plt\n",
        "loss = history.history[\"mae\"]\n",
        "val_loss = history.history[\"val_mae\"]\n",
        "epochs = range(1, len(loss) + 1)\n",
        "plt.figure()\n",
        "plt.plot(epochs, loss, \"bo\", label=\"Training MAE\")\n",
        "plt.plot(epochs, val_loss, \"b\", label=\"Validation MAE\")\n",
        "plt.title(\"Training and validation MAE\")\n",
        "plt.legend()\n",
        "plt.show()"
      ],
      "metadata": {
        "colab": {
          "base_uri": "https://localhost:8080/",
          "height": 452
        },
        "id": "WmQqkMHHADX6",
        "outputId": "6ae88373-8618-4cce-8b5f-476bdecd40b7"
      },
      "execution_count": 39,
      "outputs": [
        {
          "output_type": "display_data",
          "data": {
            "text/plain": [
              "<Figure size 640x480 with 1 Axes>"
            ],
            "image/png": "[encoded data removed]"
          },
          "metadata": {}
        }
      ]
    }
  ]
}